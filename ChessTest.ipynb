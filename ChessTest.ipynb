{
 "cells": [
  {
   "cell_type": "code",
   "execution_count": 1,
   "metadata": {},
   "outputs": [
    {
     "name": "stdout",
     "output_type": "stream",
     "text": [
      "gym version: 0.17.3\n",
      "chess version:  0.31.2\n"
     ]
    }
   ],
   "source": [
    "import gym\n",
    "import chess\n",
    "import gym_chess\n",
    "import random,time\n",
    "print('gym version:',gym.__version__)\n",
    "print('chess version: ',chess.__version__)"
   ]
  },
  {
   "cell_type": "code",
   "execution_count": 2,
   "metadata": {},
   "outputs": [
    {
     "name": "stdout",
     "output_type": "stream",
     "text": [
      "[[[0 0 0 ... 1 1 0]\n",
      "  [0 1 0 ... 1 1 0]\n",
      "  [0 0 1 ... 1 1 0]\n",
      "  ...\n",
      "  [0 0 1 ... 1 1 0]\n",
      "  [0 1 0 ... 1 1 0]\n",
      "  [0 0 0 ... 1 1 0]]\n",
      "\n",
      " [[1 0 0 ... 1 1 0]\n",
      "  [1 0 0 ... 1 1 0]\n",
      "  [1 0 0 ... 1 1 0]\n",
      "  ...\n",
      "  [1 0 0 ... 1 1 0]\n",
      "  [1 0 0 ... 1 1 0]\n",
      "  [1 0 0 ... 1 1 0]]\n",
      "\n",
      " [[0 0 0 ... 1 1 0]\n",
      "  [0 0 0 ... 1 1 0]\n",
      "  [0 0 0 ... 1 1 0]\n",
      "  ...\n",
      "  [0 0 0 ... 1 1 0]\n",
      "  [0 0 0 ... 1 1 0]\n",
      "  [0 0 0 ... 1 1 0]]\n",
      "\n",
      " ...\n",
      "\n",
      " [[0 0 0 ... 1 1 0]\n",
      "  [0 0 0 ... 1 1 0]\n",
      "  [0 0 0 ... 1 1 0]\n",
      "  ...\n",
      "  [0 0 0 ... 1 1 0]\n",
      "  [0 0 0 ... 1 1 0]\n",
      "  [0 0 0 ... 1 1 0]]\n",
      "\n",
      " [[0 0 0 ... 1 1 0]\n",
      "  [0 0 0 ... 1 1 0]\n",
      "  [0 0 0 ... 1 1 0]\n",
      "  ...\n",
      "  [0 0 0 ... 1 1 0]\n",
      "  [0 0 0 ... 1 1 0]\n",
      "  [0 0 0 ... 1 1 0]]\n",
      "\n",
      " [[0 0 0 ... 1 1 0]\n",
      "  [0 0 0 ... 1 1 0]\n",
      "  [0 0 0 ... 1 1 0]\n",
      "  ...\n",
      "  [0 0 0 ... 1 1 0]\n",
      "  [0 0 0 ... 1 1 0]\n",
      "  [0 0 0 ... 1 1 0]]]\n",
      "[[[0 0 0 ... 1 1 1]\n",
      "  [0 1 0 ... 1 1 1]\n",
      "  [0 0 1 ... 1 1 1]\n",
      "  ...\n",
      "  [0 0 1 ... 1 1 1]\n",
      "  [0 1 0 ... 1 1 1]\n",
      "  [0 0 0 ... 1 1 1]]\n",
      "\n",
      " [[0 0 0 ... 1 1 1]\n",
      "  [1 0 0 ... 1 1 1]\n",
      "  [1 0 0 ... 1 1 1]\n",
      "  ...\n",
      "  [1 0 0 ... 1 1 1]\n",
      "  [1 0 0 ... 1 1 1]\n",
      "  [1 0 0 ... 1 1 1]]\n",
      "\n",
      " [[0 0 0 ... 1 1 1]\n",
      "  [0 0 0 ... 1 1 1]\n",
      "  [0 0 0 ... 1 1 1]\n",
      "  ...\n",
      "  [0 0 0 ... 1 1 1]\n",
      "  [0 0 0 ... 1 1 1]\n",
      "  [0 0 0 ... 1 1 1]]\n",
      "\n",
      " ...\n",
      "\n",
      " [[0 0 0 ... 1 1 1]\n",
      "  [0 0 0 ... 1 1 1]\n",
      "  [0 0 0 ... 1 1 1]\n",
      "  ...\n",
      "  [0 0 0 ... 1 1 1]\n",
      "  [0 0 0 ... 1 1 1]\n",
      "  [0 0 0 ... 1 1 1]]\n",
      "\n",
      " [[0 0 0 ... 1 1 1]\n",
      "  [0 0 0 ... 1 1 1]\n",
      "  [0 0 0 ... 1 1 1]\n",
      "  ...\n",
      "  [0 0 0 ... 1 1 1]\n",
      "  [0 0 0 ... 1 1 1]\n",
      "  [0 0 0 ... 1 1 1]]\n",
      "\n",
      " [[0 0 0 ... 1 1 1]\n",
      "  [0 0 0 ... 1 1 1]\n",
      "  [0 0 0 ... 1 1 1]\n",
      "  ...\n",
      "  [0 0 0 ... 1 1 1]\n",
      "  [0 0 0 ... 1 1 1]\n",
      "  [0 0 0 ... 1 1 1]]]\n"
     ]
    },
    {
     "ename": "ValueError",
     "evalue": "a1a2 is not a valid move",
     "output_type": "error",
     "traceback": [
      "\u001b[0;31m---------------------------------------------------------------------------\u001b[0m",
      "\u001b[0;31mValueError\u001b[0m                                Traceback (most recent call last)",
      "\u001b[0;32m<ipython-input-2-da771221860a>\u001b[0m in \u001b[0;36m<module>\u001b[0;34m\u001b[0m\n\u001b[1;32m      3\u001b[0m \u001b[0mdone\u001b[0m \u001b[0;34m=\u001b[0m \u001b[0;32mFalse\u001b[0m\u001b[0;34m\u001b[0m\u001b[0m\n\u001b[1;32m      4\u001b[0m \u001b[0;32mwhile\u001b[0m \u001b[0;32mnot\u001b[0m \u001b[0mdone\u001b[0m\u001b[0;34m:\u001b[0m\u001b[0;34m\u001b[0m\u001b[0m\n\u001b[0;32m----> 5\u001b[0;31m   \u001b[0maction\u001b[0m \u001b[0;34m=\u001b[0m \u001b[0mrandom\u001b[0m\u001b[0;34m.\u001b[0m\u001b[0msample\u001b[0m\u001b[0;34m(\u001b[0m\u001b[0menv\u001b[0m\u001b[0;34m.\u001b[0m\u001b[0mlegal_actions\u001b[0m\u001b[0;34m,\u001b[0m\u001b[0mk\u001b[0m\u001b[0;34m=\u001b[0m\u001b[0;36m1\u001b[0m\u001b[0;34m)\u001b[0m\u001b[0;34m[\u001b[0m\u001b[0;34m-\u001b[0m\u001b[0;36m1\u001b[0m\u001b[0;34m]\u001b[0m\u001b[0;34m\u001b[0m\u001b[0m\n\u001b[0m\u001b[1;32m      6\u001b[0m   \u001b[0mobs\u001b[0m\u001b[0;34m,\u001b[0m\u001b[0mreward\u001b[0m\u001b[0;34m,\u001b[0m\u001b[0mdone\u001b[0m\u001b[0;34m,\u001b[0m\u001b[0m_\u001b[0m \u001b[0;34m=\u001b[0m \u001b[0menv\u001b[0m\u001b[0;34m.\u001b[0m\u001b[0mstep\u001b[0m\u001b[0;34m(\u001b[0m\u001b[0maction\u001b[0m\u001b[0;34m)\u001b[0m\u001b[0;34m\u001b[0m\u001b[0m\n\u001b[1;32m      7\u001b[0m   \u001b[0mprint\u001b[0m\u001b[0;34m(\u001b[0m\u001b[0mobs\u001b[0m\u001b[0;34m)\u001b[0m\u001b[0;34m\u001b[0m\u001b[0m\n",
      "\u001b[0;32m~/git/gym-chess/gym_chess/alphazero/move_encoding/__init__.py\u001b[0m in \u001b[0;36mlegal_actions\u001b[0;34m(self)\u001b[0m\n\u001b[1;32m     68\u001b[0m     \u001b[0;32mdef\u001b[0m \u001b[0mlegal_actions\u001b[0m\u001b[0;34m(\u001b[0m\u001b[0mself\u001b[0m\u001b[0;34m)\u001b[0m \u001b[0;34m->\u001b[0m \u001b[0mList\u001b[0m\u001b[0;34m[\u001b[0m\u001b[0mint\u001b[0m\u001b[0;34m]\u001b[0m\u001b[0;34m:\u001b[0m\u001b[0;34m\u001b[0m\u001b[0m\n\u001b[1;32m     69\u001b[0m         \u001b[0;34m\"\"\"Legal actions for the current player.\"\"\"\u001b[0m\u001b[0;34m\u001b[0m\u001b[0m\n\u001b[0;32m---> 70\u001b[0;31m         \u001b[0;32mreturn\u001b[0m \u001b[0;34m[\u001b[0m\u001b[0mself\u001b[0m\u001b[0;34m.\u001b[0m\u001b[0mencode\u001b[0m\u001b[0;34m(\u001b[0m\u001b[0mmove\u001b[0m\u001b[0;34m)\u001b[0m \u001b[0;32mfor\u001b[0m \u001b[0mmove\u001b[0m \u001b[0;32min\u001b[0m \u001b[0mself\u001b[0m\u001b[0;34m.\u001b[0m\u001b[0mlegal_moves\u001b[0m\u001b[0;34m]\u001b[0m\u001b[0;34m\u001b[0m\u001b[0m\n\u001b[0m\u001b[1;32m     71\u001b[0m \u001b[0;34m\u001b[0m\u001b[0m\n\u001b[1;32m     72\u001b[0m \u001b[0;34m\u001b[0m\u001b[0m\n",
      "\u001b[0;32m~/git/gym-chess/gym_chess/alphazero/move_encoding/__init__.py\u001b[0m in \u001b[0;36m<listcomp>\u001b[0;34m(.0)\u001b[0m\n\u001b[1;32m     68\u001b[0m     \u001b[0;32mdef\u001b[0m \u001b[0mlegal_actions\u001b[0m\u001b[0;34m(\u001b[0m\u001b[0mself\u001b[0m\u001b[0;34m)\u001b[0m \u001b[0;34m->\u001b[0m \u001b[0mList\u001b[0m\u001b[0;34m[\u001b[0m\u001b[0mint\u001b[0m\u001b[0;34m]\u001b[0m\u001b[0;34m:\u001b[0m\u001b[0;34m\u001b[0m\u001b[0m\n\u001b[1;32m     69\u001b[0m         \u001b[0;34m\"\"\"Legal actions for the current player.\"\"\"\u001b[0m\u001b[0;34m\u001b[0m\u001b[0m\n\u001b[0;32m---> 70\u001b[0;31m         \u001b[0;32mreturn\u001b[0m \u001b[0;34m[\u001b[0m\u001b[0mself\u001b[0m\u001b[0;34m.\u001b[0m\u001b[0mencode\u001b[0m\u001b[0;34m(\u001b[0m\u001b[0mmove\u001b[0m\u001b[0;34m)\u001b[0m \u001b[0;32mfor\u001b[0m \u001b[0mmove\u001b[0m \u001b[0;32min\u001b[0m \u001b[0mself\u001b[0m\u001b[0;34m.\u001b[0m\u001b[0mlegal_moves\u001b[0m\u001b[0;34m]\u001b[0m\u001b[0;34m\u001b[0m\u001b[0m\n\u001b[0m\u001b[1;32m     71\u001b[0m \u001b[0;34m\u001b[0m\u001b[0m\n\u001b[1;32m     72\u001b[0m \u001b[0;34m\u001b[0m\u001b[0m\n",
      "\u001b[0;32m~/git/gym-chess/gym_chess/alphazero/move_encoding/__init__.py\u001b[0m in \u001b[0;36mencode\u001b[0;34m(self, move)\u001b[0m\n\u001b[1;32m    157\u001b[0m \u001b[0;34m\u001b[0m\u001b[0m\n\u001b[1;32m    158\u001b[0m         \u001b[0;32mif\u001b[0m \u001b[0;32mnot\u001b[0m \u001b[0maction\u001b[0m\u001b[0;34m:\u001b[0m\u001b[0;34m\u001b[0m\u001b[0m\n\u001b[0;32m--> 159\u001b[0;31m             \u001b[0;32mraise\u001b[0m \u001b[0mValueError\u001b[0m\u001b[0;34m(\u001b[0m\u001b[0;34mf\"{move} is not a valid move\"\u001b[0m\u001b[0;34m)\u001b[0m\u001b[0;34m\u001b[0m\u001b[0m\n\u001b[0m\u001b[1;32m    160\u001b[0m \u001b[0;34m\u001b[0m\u001b[0m\n\u001b[1;32m    161\u001b[0m         \u001b[0;31m#action = np.ravel_multi_index(\u001b[0m\u001b[0;34m\u001b[0m\u001b[0;34m\u001b[0m\u001b[0m\n",
      "\u001b[0;31mValueError\u001b[0m: a1a2 is not a valid move"
     ]
    }
   ],
   "source": [
    "env = gym.make('ChessAlphaZero-v0')\n",
    "env.reset()\n",
    "done = False\n",
    "while not done:\n",
    "  action = random.sample(env.legal_actions,k=1)[-1]\n",
    "  obs,reward,done,_ = env.step(action)\n",
    "  print(obs)\n",
    "\n",
    "env.close()"
   ]
  },
  {
   "cell_type": "code",
   "execution_count": null,
   "metadata": {},
   "outputs": [],
   "source": []
  }
 ],
 "metadata": {
  "kernelspec": {
   "display_name": "Python 3",
   "language": "python",
   "name": "python3"
  },
  "language_info": {
   "codemirror_mode": {
    "name": "ipython",
    "version": 3
   },
   "file_extension": ".py",
   "mimetype": "text/x-python",
   "name": "python",
   "nbconvert_exporter": "python",
   "pygments_lexer": "ipython3",
   "version": "3.6.5"
  }
 },
 "nbformat": 4,
 "nbformat_minor": 4
}
